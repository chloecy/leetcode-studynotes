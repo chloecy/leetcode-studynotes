{
 "cells": [
  {
   "cell_type": "markdown",
   "metadata": {},
   "source": [
    "## 118. Pascal's Triangle"
   ]
  },
  {
   "cell_type": "markdown",
   "metadata": {},
   "source": [
    "Given a non-negative integer numRows, generate the first numRows of Pascal's triangle."
   ]
  },
  {
   "cell_type": "code",
   "execution_count": 4,
   "metadata": {},
   "outputs": [
    {
     "data": {
      "text/plain": [
       "[[1], [1, 1], [1, 2, 1], [1, 3, 3, 1], [1, 4, 6, 4, 1]]"
      ]
     },
     "execution_count": 4,
     "metadata": {},
     "output_type": "execute_result"
    }
   ],
   "source": [
    "# Input: 5\n",
    "# Output:\n",
    "[\n",
    "     [1],\n",
    "    [1,1],\n",
    "   [1,2,1],\n",
    "  [1,3,3,1],\n",
    " [1,4,6,4,1]\n",
    "]"
   ]
  },
  {
   "cell_type": "code",
   "execution_count": 1,
   "metadata": {},
   "outputs": [],
   "source": [
    "class Solution:\n",
    "    def generate(self, numRows):\n",
    "        \"\"\"\n",
    "        :type numRows: int\n",
    "        :rtype: List[List[int]]\n",
    "        \"\"\"\n",
    "        if not numRows:\n",
    "            return []\n",
    "        \n",
    "        pascal_triangle = []\n",
    "        if numRows == 1:\n",
    "            pascal_triangle = [[1]]\n",
    "            return pascal_triangle \n",
    "        elif numRows == 2:\n",
    "            pascal_triangle = [[1], [1, 1]]\n",
    "            return pascal_triangle \n",
    "        else:\n",
    "            pascal_triangle = [[1], [1, 1]]\n",
    "            while len(pascal_triangle) < numRows:\n",
    "                new_row = [[1] + [(pascal_triangle[-1][i]+pascal_triangle[-1][i+1]) for i in range(len(pascal_triangle[-1])-1)]+[1]]\n",
    "                pascal_triangle += new_row\n",
    "        return pascal_triangle\n",
    "        \n",
    "# Your runtime beats 79.97 % of python3 submissions.    "
   ]
  },
  {
   "cell_type": "code",
   "execution_count": null,
   "metadata": {},
   "outputs": [],
   "source": [
    "class Solution:\n",
    "    def generate(self, numRows):\n",
    "        pascal_triangle = [[1], [1, 1]]\n",
    "        while len(pascal_triangle) < numRows:\n",
    "            new_row = [[1] + [(pascal_triangle[-1][i]+pascal_triangle[-1][i+1]) for i in range(len(pascal_triangle[-1])-1)]+[1]]\n",
    "            pascal_triangle += new_row\n",
    "        return pascal_triangle[:numRows]"
   ]
  },
  {
   "cell_type": "code",
   "execution_count": 14,
   "metadata": {},
   "outputs": [
    {
     "data": {
      "text/plain": [
       "'\\n    1 3 3 1 0 \\n +  0 1 3 3 1\\n =  1 4 6 4 1\\n'"
      ]
     },
     "execution_count": 14,
     "metadata": {},
     "output_type": "execute_result"
    }
   ],
   "source": [
    "# https://leetcode.com/problems/pascals-triangle/discuss/38128/Python-4-lines-short-solution-using-map.\n",
    "\n",
    "class Solution:\n",
    "    def generate(self, numRows):\n",
    "        \"\"\"\n",
    "        :type numRows: int\n",
    "        :rtype: List[List[int]]\n",
    "        \"\"\"\n",
    "        res = [[1]]\n",
    "        for i in range(1, numRows):\n",
    "            res += [map(lambda x, y: x+y, res[-1] + [0], [0] + res[-1])]\n",
    "        return res[:numRows]\n",
    "# Your runtime beats 98.45 % of python3 submissions.\n",
    "'''\n",
    "    1 3 3 1 0 \n",
    " +  0 1 3 3 1\n",
    " =  1 4 6 4 1\n",
    "'''"
   ]
  },
  {
   "cell_type": "code",
   "execution_count": null,
   "metadata": {},
   "outputs": [],
   "source": [
    "class Solution:\n",
    "    def generate(self, numRows):\n",
    "        res = [[1]]\n",
    "        for i in range(1, numRows):\n",
    "            m = res[-1] + [0]\n",
    "            n = [0] + res[-1]\n",
    "            res.append([(m[i]+n[i]) for i in range(len(m))])\n",
    "            #res += [map(lambda x, y: x+y, res[-1] + [0], [0] + res[-1])]\n",
    "        return res[:numRows]"
   ]
  }
 ],
 "metadata": {
  "kernelspec": {
   "display_name": "Python 3",
   "language": "python",
   "name": "python3"
  },
  "language_info": {
   "codemirror_mode": {
    "name": "ipython",
    "version": 3
   },
   "file_extension": ".py",
   "mimetype": "text/x-python",
   "name": "python",
   "nbconvert_exporter": "python",
   "pygments_lexer": "ipython3",
   "version": "3.6.4"
  }
 },
 "nbformat": 4,
 "nbformat_minor": 2
}
