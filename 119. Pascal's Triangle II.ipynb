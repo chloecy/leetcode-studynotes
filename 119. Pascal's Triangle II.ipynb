{
 "cells": [
  {
   "cell_type": "markdown",
   "metadata": {},
   "source": [
    "## 119. Pascal's Triangle II"
   ]
  },
  {
   "cell_type": "markdown",
   "metadata": {},
   "source": [
    "Given a non-negative index k where k ≤ 33, return the kth index row of the Pascal's triangle.  \n",
    "Note that the row index starts from 0."
   ]
  },
  {
   "cell_type": "code",
   "execution_count": null,
   "metadata": {},
   "outputs": [],
   "source": [
    "class Solution:\n",
    "    def getRow(self, rowIndex):\n",
    "        \"\"\"\n",
    "        :type rowIndex: int\n",
    "        :rtype: List[int]\n",
    "        \"\"\"\n",
    "        res = [[1]]\n",
    "        for i in range(0, rowIndex+1):\n",
    "            m = res[-1] + [0]\n",
    "            n = [0] + res[-1]\n",
    "            res.append([(m[i]+n[i]) for i in range(len(m))])\n",
    "        return res[rowIndex]\n",
    "\n",
    "# Your runtime beats 98.22 % of python3 submissions. 29 June 2018"
   ]
  }
 ],
 "metadata": {
  "kernelspec": {
   "display_name": "Python 3",
   "language": "python",
   "name": "python3"
  },
  "language_info": {
   "codemirror_mode": {
    "name": "ipython",
    "version": 3
   },
   "file_extension": ".py",
   "mimetype": "text/x-python",
   "name": "python",
   "nbconvert_exporter": "python",
   "pygments_lexer": "ipython3",
   "version": "3.6.4"
  }
 },
 "nbformat": 4,
 "nbformat_minor": 2
}
