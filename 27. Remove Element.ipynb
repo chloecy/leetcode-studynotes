{
 "cells": [
  {
   "cell_type": "markdown",
   "metadata": {},
   "source": [
    "## 27. Remove Element"
   ]
  },
  {
   "cell_type": "markdown",
   "metadata": {},
   "source": [
    "Given an array nums and a value val, remove all instances of that value in-place and return the new length.  \n",
    "Do not allocate extra space for another array, you must do this by modifying the input array in-place with O(1) extra memory.  \n",
    "The order of elements can be changed. It doesn't matter what you leave beyond the new length."
   ]
  },
  {
   "cell_type": "markdown",
   "metadata": {},
   "source": [
    "Algorithm:  \n",
    "We can keep two pointers ii and jj, where ii is the slow-runner while jj is the fast-runner.  \n",
    "When nums[j] equals to the given value, skip this element by incrementing j. \n",
    "As long as nums[j]≠val, we copy nums[j] to nums[i] and increment both indexes at the same time. \n",
    "Repeat the process until j reaches the end of the array and the new length is i."
   ]
  },
  {
   "cell_type": "code",
   "execution_count": null,
   "metadata": {},
   "outputs": [],
   "source": [
    "class Solution:\n",
    "    def removeElement(self, nums, val):\n",
    "        \"\"\"\n",
    "        :type nums: List[int]\n",
    "        :type val: int\n",
    "        :rtype: int\n",
    "        \"\"\"\n",
    "        if not nums:\n",
    "            return 0\n",
    "        else:\n",
    "            i = 0   \n",
    "            j = 0\n",
    "            while j < len(nums):\n",
    "                if nums[j] == val:\n",
    "                    j += 1\n",
    "                else:\n",
    "                    nums[i] = nums[j]\n",
    "                    i += 1\n",
    "                    j += 1\n",
    "            return i + 1\n",
    "\n",
    "# Your runtime beats 96.38 % of python3 submissions.(27 June 2018)"
   ]
  }
 ],
 "metadata": {
  "kernelspec": {
   "display_name": "Python 3",
   "language": "python",
   "name": "python3"
  },
  "language_info": {
   "codemirror_mode": {
    "name": "ipython",
    "version": 3
   },
   "file_extension": ".py",
   "mimetype": "text/x-python",
   "name": "python",
   "nbconvert_exporter": "python",
   "pygments_lexer": "ipython3",
   "version": "3.6.4"
  }
 },
 "nbformat": 4,
 "nbformat_minor": 2
}
