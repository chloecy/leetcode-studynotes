{
 "cells": [
  {
   "cell_type": "markdown",
   "metadata": {},
   "source": [
    "## 35. Search Insert Position"
   ]
  },
  {
   "cell_type": "markdown",
   "metadata": {},
   "source": [
    "Given a sorted array and a target value, return the index if the target is found. If not, return the index where it would be if it were inserted in order.  \n",
    "You may assume no duplicates in the array."
   ]
  },
  {
   "cell_type": "code",
   "execution_count": null,
   "metadata": {},
   "outputs": [],
   "source": [
    "class Solution:\n",
    "    def searchInsert(self, nums, target):\n",
    "        \"\"\"\n",
    "        :type nums: List[int]\n",
    "        :type target: int\n",
    "        :rtype: int\n",
    "        \"\"\"\n",
    "        if not nums:\n",
    "            return 0\n",
    "        \n",
    "        if target in nums:\n",
    "            return nums.index(target)\n",
    "        else:\n",
    "            if len(nums) > 1:\n",
    "                for i in range(len(nums)):\n",
    "                    if max(nums) < target:\n",
    "                        return len(nums)\n",
    "                    elif min(nums) > target:\n",
    "                        return 0\n",
    "                    elif nums[i-1] < target and nums[i] > target:\n",
    "                        return i              \n",
    "            elif len(nums) == 1:\n",
    "                if nums[0] < target:\n",
    "                    return 1\n",
    "                else:\n",
    "                    return 0\n",
    "            else:\n",
    "                return 0\n",
    "# Your runtime beats 91.31 % of python3 submissions"
   ]
  },
  {
   "cell_type": "code",
   "execution_count": null,
   "metadata": {},
   "outputs": [],
   "source": [
    "# https://leetcode.com/problems/search-insert-position/discuss/15081/Python-one-liner-48ms\n",
    "# O(n)\n",
    "\n",
    "class Solution(object):\n",
    "    def searchInsert(self, nums, target):\n",
    "        \"\"\"\n",
    "        :type nums: List[int]\n",
    "        :type target: int\n",
    "        :rtype: int\n",
    "        \"\"\"       \n",
    "        return len([x for x in nums if x<target])"
   ]
  },
  {
   "cell_type": "code",
   "execution_count": null,
   "metadata": {},
   "outputs": [],
   "source": [
    "# https://leetcode.com/problems/search-insert-position/discuss/124471/Python-using-Binary-Search\n",
    "# binary search O(log n)\n",
    "\n",
    "class Solution:\n",
    "    def searchInsert(self, nums, target):\n",
    "        \"\"\"\n",
    "        :type nums: List[int]\n",
    "        :type target: int\n",
    "        :rtype: int\n",
    "        \"\"\"\n",
    "        first = 0\n",
    "        last = len(nums)-1\n",
    "        \n",
    "        while first <= last:\n",
    "            mid = (first + last)//2\n",
    "            if nums[mid] == target:\n",
    "                return mid\n",
    "            else:\n",
    "                if nums[mid] > target: # left side\n",
    "                    if nums[mid - 1] < target:\n",
    "                        return mid\n",
    "                    last = mid - 1\n",
    "                else: # nums[mid] < target -- right side\n",
    "                    try:\n",
    "                        if nums[mid + 1] > target:\n",
    "                            return mid + 1\n",
    "                    except:\n",
    "                        pass\n",
    "                    first = mid + 1\n",
    "        return first\n",
    "    \n",
    "# Your runtime beats 99.88 % of python3 submissions"
   ]
  }
 ],
 "metadata": {
  "kernelspec": {
   "display_name": "Python 3",
   "language": "python",
   "name": "python3"
  },
  "language_info": {
   "codemirror_mode": {
    "name": "ipython",
    "version": 3
   },
   "file_extension": ".py",
   "mimetype": "text/x-python",
   "name": "python",
   "nbconvert_exporter": "python",
   "pygments_lexer": "ipython3",
   "version": "3.6.4"
  }
 },
 "nbformat": 4,
 "nbformat_minor": 2
}
