{
 "cells": [
  {
   "cell_type": "markdown",
   "metadata": {},
   "source": [
    "## 26. Remove Duplicates from Sorted Array"
   ]
  },
  {
   "cell_type": "markdown",
   "metadata": {},
   "source": [
    "Given a sorted array nums, remove the duplicates in-place such that each element appear only once and return the new length.  \n",
    "Do not allocate extra space for another array, you must do this by modifying the input array in-place with O(1) extra memory."
   ]
  },
  {
   "cell_type": "code",
   "execution_count": null,
   "metadata": {},
   "outputs": [],
   "source": [
    "# two pointers\n",
    "# do not del value in-place, because it will cause changes to the length of the array\n",
    "# beat 76.51 % of python 3 submission 26 June 2018\n",
    "class Solution:\n",
    "    def removeDuplicates(self, nums):\n",
    "        \"\"\"\n",
    "        :type nums: List[int]\n",
    "        :rtype: int\n",
    "        \"\"\"\n",
    "        if len(nums) == 0: # exception\n",
    "            return 0\n",
    "        else:\n",
    "            i = 0\n",
    "            j = 1\n",
    "            while j < len(nums):\n",
    "                if nums[j] != nums[i]:\n",
    "                    nums[i+1] = nums[j]\n",
    "                    i += 1\n",
    "                    j += 1\n",
    "                else:\n",
    "                    j += 1     \n",
    "            return i + 1  # needs to add 1 to the length of new array\n",
    "'''\n",
    "Leetcode solution:\n",
    "Since the array is already sorted, we can keep two pointers i and j, \n",
    "where i is the slow-runner while j is the fast-runner. \n",
    "As long as nums[i] = nums[j], we increment j to skip the duplicate.\n",
    "\n",
    "When we encounter nums[j]≠nums[i], the duplicate run has ended so we must copy its value to nums[i+1]. \n",
    "i is then incremented and we repeat the same process again until j reaches the end of array.\n",
    "'''\n",
    "\n",
    "# Time complextiy : O(n). Assume that n is the length of array. Each of i and j traverses at most n steps.\n",
    "# Space complexity : O(1).\n"
   ]
  },
  {
   "cell_type": "code",
   "execution_count": null,
   "metadata": {},
   "outputs": [],
   "source": [
    "# https://leetcode.com/problems/remove-duplicates-from-sorted-array/discuss/129803/Python-easy-peasy-2-lines-solution-68-ms-beats-76\n",
    "# del from end to start will not change the original index\n",
    "class Solution:\n",
    "    def removeDuplicates(self, nums):\n",
    "        n = len(nums)\n",
    "        return n - len([nums.pop(i) for i in range(n - 1, 0, -1) if nums[i] == nums[i - 1]])"
   ]
  },
  {
   "cell_type": "code",
   "execution_count": null,
   "metadata": {},
   "outputs": [],
   "source": [
    "# https://leetcode.com/problems/remove-duplicates-from-sorted-array/discuss/133540/Python-O(n)-time-and-O(1)-space-solution-beats-99\n",
    "# beat 99.65%\n",
    "class Solution:\n",
    "    def removeDuplicates(self, nums):\n",
    "        if not nums: \n",
    "            # ⚠️if x is not None \n",
    "            # 使用if not x这种写法的前提是：必须清楚x等于None,  False, 空字符串\"\", 0, 空列表[], 空字典{}, 空元组()时对你的判断没有影响才行。\n",
    "            return 0\n",
    "        else:\n",
    "            lastest, j = nums[0], 1\n",
    "            for i in range(1, len(nums)):\n",
    "                if nums[i] > lastest:\n",
    "                    lastest = nums[i] \n",
    "                    nums[j] = nums[i]\n",
    "                    j += 1\n",
    "            return j"
   ]
  }
 ],
 "metadata": {
  "kernelspec": {
   "display_name": "Python 3",
   "language": "python",
   "name": "python3"
  },
  "language_info": {
   "codemirror_mode": {
    "name": "ipython",
    "version": 3
   },
   "file_extension": ".py",
   "mimetype": "text/x-python",
   "name": "python",
   "nbconvert_exporter": "python",
   "pygments_lexer": "ipython3",
   "version": "3.6.4"
  }
 },
 "nbformat": 4,
 "nbformat_minor": 2
}
