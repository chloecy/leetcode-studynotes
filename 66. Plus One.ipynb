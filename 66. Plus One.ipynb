{
 "cells": [
  {
   "cell_type": "markdown",
   "metadata": {},
   "source": [
    "## 66. Plus One"
   ]
  },
  {
   "cell_type": "markdown",
   "metadata": {},
   "source": [
    "Given a non-empty array of digits representing a non-negative integer, plus one to the integer.  \n",
    "The digits are stored such that the most significant digit is at the head of the list, and each element in the array contain a single digit.  \n",
    "You may assume the integer does not contain any leading zero, except the number 0 itself.  "
   ]
  },
  {
   "cell_type": "code",
   "execution_count": null,
   "metadata": {},
   "outputs": [],
   "source": [
    "class Solution:\n",
    "    def plusOne(self, digits):\n",
    "        \"\"\"\n",
    "        :type digits: List[int]\n",
    "        :rtype: List[int]\n",
    "        \"\"\"\n",
    "        num = 0 \n",
    "        for i in range(len(digits)):\n",
    "            num += digits[i] * 10**(len(digits) -1 -i)    \n",
    "        return [int(i) for i in str(num + 1)]\n",
    "        \n",
    "# Your runtime beats 95.20 % of python3 submissions.   28 June 2018     "
   ]
  },
  {
   "cell_type": "code",
   "execution_count": null,
   "metadata": {},
   "outputs": [],
   "source": [
    "class Solution:\n",
    "    def plusOne(self, digits):\n",
    "        \"\"\"\n",
    "        :type digits: List[int]\n",
    "        :rtype: List[int]\n",
    "        \"\"\"\n",
    "        num = 0 \n",
    "        for i in range(len(digits)):\n",
    "            num += digits[i] * 10**(len(digits)-1-i)    \n",
    "        num = str(num + 1)\n",
    "        digits2 = []\n",
    "        for m in range(len(num)):\n",
    "            digits2.append(int(num[m]))\n",
    "        return digits2\n",
    "        "
   ]
  },
  {
   "cell_type": "code",
   "execution_count": null,
   "metadata": {},
   "outputs": [],
   "source": [
    "class Solution:\n",
    "    def plusOne(self, digits):\n",
    "        \"\"\"\n",
    "        :type digits: List[int]\n",
    "        :rtype: List[int]\n",
    "        \"\"\"\n",
    "    return [int(a) for a in (str(int(''.join(map(str, digits))) + 1))]"
   ]
  },
  {
   "cell_type": "code",
   "execution_count": 11,
   "metadata": {},
   "outputs": [
    {
     "name": "stdout",
     "output_type": "stream",
     "text": [
      "123\n"
     ]
    }
   ],
   "source": [
    "# str.join(sequence) 函数中的 sequence 中的元素必须是字符串\n",
    "# map(function, iterable, ...)\n",
    "a = str(int(''.join(map(str, [1,2,3]))))\n",
    "print(a)"
   ]
  }
 ],
 "metadata": {
  "kernelspec": {
   "display_name": "Python 3",
   "language": "python",
   "name": "python3"
  },
  "language_info": {
   "codemirror_mode": {
    "name": "ipython",
    "version": 3
   },
   "file_extension": ".py",
   "mimetype": "text/x-python",
   "name": "python",
   "nbconvert_exporter": "python",
   "pygments_lexer": "ipython3",
   "version": "3.6.4"
  }
 },
 "nbformat": 4,
 "nbformat_minor": 2
}
