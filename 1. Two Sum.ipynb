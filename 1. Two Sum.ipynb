{
 "cells": [
  {
   "cell_type": "markdown",
   "metadata": {},
   "source": [
    "# 1. Two Sum"
   ]
  },
  {
   "cell_type": "markdown",
   "metadata": {},
   "source": [
    "Given an array of integers, return indices of the two numbers such that they add up to a specific target.\n",
    "You may assume that each input would have exactly one solution, and you may not use the same element twice."
   ]
  },
  {
   "cell_type": "markdown",
   "metadata": {},
   "source": [
    "<b>Example:</b>  \n",
    "Given nums = [2, 7, 11, 15], target = 9,  \n",
    "Because nums[0] + nums[1] = 2 + 7 = 9,  \n",
    "return [0, 1]. "
   ]
  },
  {
   "cell_type": "code",
   "execution_count": null,
   "metadata": {},
   "outputs": [],
   "source": [
    "# brute force\n",
    "class Solution:\n",
    "    def twoSum(self, nums, target):\n",
    "        \"\"\"\n",
    "        :type nums: List[int]\n",
    "        :type target: int\n",
    "        :rtype: List[int]\n",
    "        \"\"\"\n",
    "        num_indices = []\n",
    "        for indice1 in range(len(nums)):\n",
    "            for indice2 in range(1, len(nums)+1):\n",
    "                if nums[indice1] + nums[indice2] == target:\n",
    "                    num_indices = [indices1, indices2]\n",
    "        return num_indices\n",
    "\n",
    "# Time complexity : O(n^2)\n",
    "# Space complexity : O(1)."
   ]
  },
  {
   "cell_type": "code",
   "execution_count": null,
   "metadata": {},
   "outputs": [],
   "source": [
    "# hash map 1\n",
    "class Solution:\n",
    "    def twoSum(self, nums, target):\n",
    "        \"\"\"\n",
    "        :type nums: List[int]\n",
    "        :type target: int\n",
    "        :rtype: List[int]\n",
    "        \"\"\"    \n",
    "        dict1 = {}\n",
    "        for i in range(len(nums)):\n",
    "            if target - nums[i] not in dict1: # 'in' keys by default, no need to write as dict1.keys()\n",
    "                dict1[nums[i]] = i  # the keys of dict1 are values of nums, the values of dict1 are indices of nums\n",
    "            else:\n",
    "                return [dict1[target - nums[i]], i]\n",
    "\n",
    "# time complexity: O(n) time\n",
    "\n",
    "# https://zhuanlan.zhihu.com/p/33496977\n",
    "# dict采用了哈希表，最低能在 O(1)时间内完成搜索。同样的java的HashMap也采用了哈希表实现；\n",
    "# 不同的是，dict在发生哈希冲突的时候采用了开放寻址法，而HashMap采用了链接法。"
   ]
  },
  {
   "cell_type": "code",
   "execution_count": null,
   "metadata": {},
   "outputs": [],
   "source": [
    "# hash map 2\n",
    "# https://leetcode.com/problems/two-sum/discuss/127349/Python-4-lines-easy-and-clear-solution-36-ms-beats-100   \n",
    "\n",
    "class Solution:\n",
    "    def twoSum(self, nums, target):\n",
    "        \"\"\"\n",
    "        :type nums: List[int]\n",
    "        :type target: int\n",
    "        :rtype: List[int]\n",
    "        \"\"\"   \n",
    "        nums_hash = {} #hashmap\n",
    "        for i in range(len(nums)):\n",
    "            if target - nums[i] in nums_hash: \n",
    "                return [nums_hash[target - nums[i]], i]\n",
    "            nums_hash[nums[i]] = i\n",
    "   "
   ]
  }
 ],
 "metadata": {
  "kernelspec": {
   "display_name": "Python 3",
   "language": "python",
   "name": "python3"
  },
  "language_info": {
   "codemirror_mode": {
    "name": "ipython",
    "version": 3
   },
   "file_extension": ".py",
   "mimetype": "text/x-python",
   "name": "python",
   "nbconvert_exporter": "python",
   "pygments_lexer": "ipython3",
   "version": "3.6.4"
  }
 },
 "nbformat": 4,
 "nbformat_minor": 2
}
